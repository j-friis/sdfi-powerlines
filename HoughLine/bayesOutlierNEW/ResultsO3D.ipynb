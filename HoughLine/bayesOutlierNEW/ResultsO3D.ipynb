{
 "cells": [
  {
   "cell_type": "code",
   "execution_count": 1,
   "id": "19f9cc58",
   "metadata": {},
   "outputs": [
    {
     "name": "stdout",
     "output_type": "stream",
     "text": [
      "Jupyter environment detected. Enabling Open3D WebVisualizer.\n",
      "[Open3D INFO] WebRTC GUI backend enabled.\n",
      "[Open3D INFO] WebRTCWindowSystem: HTTP handshake server disabled.\n"
     ]
    }
   ],
   "source": [
    "import pandas as pd\n",
    "import numpy as np\n",
    "import csv\n",
    "import re\n",
    "\n",
    "import matplotlib.pyplot as plt\n",
    "\n",
    "import numpy as np\n",
    "import pandas as pd\n",
    "import cv2\n",
    "import json\n",
    "\n",
    "import skimage.measure\n",
    "\n",
    "import rasterio\n",
    "from rasterio.features import shapes\n",
    "\n",
    "import matplotlib.patches as mpatches\n",
    "from shapely.geometry import Point, Polygon, shape, mapping\n",
    "import shapely\n",
    "import geopandas as gpd\n",
    "\n",
    "from matplotlib.path import Path\n",
    "import laspy\n",
    "import open3d as o3d\n",
    "import os\n",
    "\n",
    "from skopt import BayesSearchCV\n",
    "from sklearn.neighbors import LocalOutlierFactor\n",
    "import glob\n"
   ]
  },
  {
   "cell_type": "code",
   "execution_count": 2,
   "id": "89b5e2c4",
   "metadata": {},
   "outputs": [],
   "source": [
    "path_to_folder = 'o3d/'\n",
    "results_name = \"results_outliers_o3d.txt\""
   ]
  },
  {
   "cell_type": "code",
   "execution_count": 3,
   "id": "5361a9ba",
   "metadata": {},
   "outputs": [],
   "source": [
    "cols = [\"file_id\",\n",
    "        \"filepath\",\n",
    "        \"pct_kept_powerline\",\n",
    "        \"pct_lost_datapoints\",\n",
    "        \"total_amount_points\",\n",
    "        \"total_amount_wire\",\n",
    "        \"new_total_amount_points\",\n",
    "        \"lost_wire\",\n",
    "        \"params\"]\n",
    "\n",
    "with open(path_to_folder+results_name, 'r') as f:\n",
    "    lines = f.read()\n",
    "lines = lines.split('\\n')[:-1]\n",
    "\n",
    "# Find the dictionary\n",
    "results = []\n",
    "for line in lines:\n",
    "    match = re.search(\"\\{.*\\}\", line)\n",
    "    start, end = match.span()\n",
    "    params = line[start:end]\n",
    "    data = line[:start-1].split(',')\n",
    "    results.append(data+[params])\n",
    "\n",
    "df = pd.DataFrame(results, columns=cols)\n",
    "\n",
    "df['file_id'] = df['file_id'].astype(int)\n",
    "df['pct_kept_powerline'] = df['pct_kept_powerline'].astype(float)\n",
    "df['pct_lost_datapoints'] = df['pct_lost_datapoints'].astype(float)\n",
    "\n",
    "df['total_amount_points'] = df['total_amount_points'].astype(int)\n",
    "df['total_amount_wire'] = df['total_amount_wire'].astype(int)\n",
    "df['new_total_amount_points'] = df['new_total_amount_points'].astype(int)\n",
    "df['lost_wire'] = df['lost_wire'].astype(int)"
   ]
  },
  {
   "cell_type": "code",
   "execution_count": null,
   "id": "528ffe06",
   "metadata": {},
   "outputs": [],
   "source": []
  },
  {
   "cell_type": "code",
   "execution_count": 4,
   "id": "473e4894",
   "metadata": {},
   "outputs": [
    {
     "name": "stdout",
     "output_type": "stream",
     "text": [
      "6.869793025182277e-05\n",
      "0.9989990014358742\n"
     ]
    }
   ],
   "source": [
    "runs = [] \n",
    "for i in df['params'].unique():\n",
    "    tmpDF = df[df['params'] == i]\n",
    "    runs.append(tmpDF)\n",
    "    \n",
    "LatexCodePre = r\"\"\"\n",
    "\\begin{table}[H]\n",
    "    {\\tiny\\tabcolsep=2pt\n",
    "    \\begin{adjustbox}{width=1.2\\linewidth,center}\n",
    "    \\begin{tabular}{cllllllll}\n",
    "    \\multicolumn{1}{l}{\\textbf{}} &\n",
    "      \\multicolumn{1}{c}{\\textbf{Score1}} &\n",
    "      \\multicolumn{1}{c}{\\textbf{Score2}} &\n",
    "      \\multicolumn{1}{c}{\\textbf{Pct PL Rem}} &\n",
    "      \\multicolumn{1}{c}{\\textbf{Max PL Rem}} &\n",
    "      \\multicolumn{1}{c}{\\textbf{Pct DP Rem}} &\n",
    "      \\multicolumn{1}{c}{\\textbf{NB Neighbors}} &\n",
    "      \\multicolumn{1}{c}{\\textbf{Standard Ratio}} &\n",
    "      \\multicolumn{1}{c}{\\textbf{Voxel Size}}\\\\\n",
    "      \"\"\"\n",
    "\n",
    "LatexCodePost = \"\"\"    \n",
    "    \\end{tabular}\n",
    "    \\end{adjustbox}}\n",
    "    \\caption{Caption}\n",
    "    \\label{tab:my_label}\n",
    "\\end{table}\n",
    "\"\"\"\n",
    "\n",
    "epsilon = 0.0001\n",
    "alpha = 0.999\n",
    "\n",
    "middle = \"\"\n",
    "\n",
    "scores1 = []\n",
    "scores2 = []\n",
    "for iteration, run in enumerate(runs):\n",
    "    params = run.iloc[0].params.replace(\"'\", '\"')\n",
    "    params = json.loads(params)\n",
    "    \n",
    "    score1 = 0\n",
    "    if 1-np.mean(run['pct_kept_powerline']) <= epsilon:\n",
    "        score1 = np.mean(run['pct_lost_datapoints'])\n",
    "    scores1.append(score1)\n",
    "    \n",
    "    score2 = alpha * np.mean(run['pct_kept_powerline']) + (1-alpha)*np.mean(run['pct_lost_datapoints'])\n",
    "    scores2.append(score2)\n",
    "    \n",
    "    pctplrem = 1-np.mean(run['pct_kept_powerline'])\n",
    "    maxplrem = 1-np.min(run['pct_kept_powerline'])\n",
    "    pctdprem = np.mean(run['pct_lost_datapoints'])\n",
    "    \n",
    "    nb_neighbours = params['nb_neighbors']\n",
    "    std_ratio = params['std_ratio']\n",
    "    voxel_size = params['voxel_size']\n",
    "    \n",
    "    \n",
    "    tmp = r\"\\textbf{\"+str(iteration+1)+\"}\"+\" & \"\n",
    "    tmp += \"{:.8f}\".format(score1)+\" & \"\n",
    "    tmp += \"{:.8f}\".format(score2)+\" & \"\n",
    "    tmp += \"{:.8f}\".format(pctplrem)+\" & \"\n",
    "    tmp += \"{:.8f}\".format(maxplrem)+\" & \"\n",
    "    tmp += \"{:.8f}\".format(pctdprem)+\" & \"\n",
    "    tmp += str(nb_neighbours)+\" & \"\n",
    "    tmp += str(std_ratio)+\" & \"\n",
    "    tmp += str(voxel_size)+\"\\\\\\\\\\n\"\n",
    "    middle+=tmp\n",
    "    \n",
    "print(np.max(scores1))\n",
    "print(np.max(scores2))"
   ]
  },
  {
   "cell_type": "code",
   "execution_count": 5,
   "id": "07272d9c",
   "metadata": {},
   "outputs": [
    {
     "name": "stdout",
     "output_type": "stream",
     "text": [
      "\n",
      "\\begin{table}[H]\n",
      "    {\\tiny\\tabcolsep=2pt\n",
      "    \\begin{adjustbox}{width=1.2\\linewidth,center}\n",
      "    \\begin{tabular}{cllllllll}\n",
      "    \\multicolumn{1}{l}{\\textbf{}} &\n",
      "      \\multicolumn{1}{c}{\\textbf{Score1}} &\n",
      "      \\multicolumn{1}{c}{\\textbf{Score2}} &\n",
      "      \\multicolumn{1}{c}{\\textbf{Pct PL Rem}} &\n",
      "      \\multicolumn{1}{c}{\\textbf{Max PL Rem}} &\n",
      "      \\multicolumn{1}{c}{\\textbf{Pct DP Rem}} &\n",
      "      \\multicolumn{1}{c}{\\textbf{NB Neighbors}} &\n",
      "      \\multicolumn{1}{c}{\\textbf{Standard Ratio}} &\n",
      "      \\multicolumn{1}{c}{\\textbf{Voxel Size}}\\\\\n",
      "      \\textbf{1} & 0.00004302 & 0.99899796 & 0.00000209 & 0.00003129 & 0.00004302 & 13 & 37 & 0.6\\\\\n",
      "\\textbf{2} & 0.00004221 & 0.99899796 & 0.00000209 & 0.00003129 & 0.00004221 & 9 & 47 & 0.6\\\\\n",
      "\\textbf{3} & 0.00004504 & 0.99898979 & 0.00001027 & 0.00005914 & 0.00004504 & 13 & 27 & 0.3\\\\\n",
      "\\textbf{4} & 0.00004368 & 0.99899509 & 0.00000496 & 0.00004254 & 0.00004368 & 7 & 31 & 0.5\\\\\n",
      "\\textbf{5} & 0.00004262 & 0.99898979 & 0.00001027 & 0.00005914 & 0.00004262 & 8 & 40 & 0.3\\\\\n",
      "\\textbf{6} & 0.00004266 & 0.99899509 & 0.00000496 & 0.00004254 & 0.00004266 & 18 & 41 & 0.5\\\\\n",
      "\\textbf{7} & 0.00004428 & 0.99899584 & 0.00000421 & 0.00003186 & 0.00004428 & 20 & 30 & 0.2\\\\\n",
      "\\textbf{8} & 0.00004269 & 0.99899128 & 0.00000878 & 0.00005914 & 0.00004269 & 13 & 40 & 0.1\\\\\n",
      "\\textbf{9} & 0.00004214 & 0.99899884 & 0.00000120 & 0.00001805 & 0.00004214 & 6 & 43 & 0.8\\\\\n",
      "\\textbf{10} & 0.00004651 & 0.99899273 & 0.00000733 & 0.00004254 & 0.00004651 & 11 & 24 & 0.7\\\\\n",
      "\\textbf{11} & 0.00005545 & 0.99897541 & 0.00002467 & 0.00029749 & 0.00005545 & 9 & 18 & 0.8\\\\\n",
      "\\textbf{12} & 0.00005907 & 0.99897292 & 0.00002717 & 0.00012763 & 0.00005907 & 9 & 17 & 0.5\\\\\n",
      "\\textbf{13} & 0.00006541 & 0.99898058 & 0.00001951 & 0.00005914 & 0.00006541 & 19 & 15 & 0.1\\\\\n",
      "\\textbf{14} & 0.00004309 & 0.99899213 & 0.00000792 & 0.00005446 & 0.00004309 & 9 & 35 & 0.4\\\\\n",
      "\\textbf{15} & 0.00004499 & 0.99899500 & 0.00000505 & 0.00003186 & 0.00004499 & 16 & 27 & 0.2\\\\\n",
      "\\textbf{16} & 0.00006870 & 0.99897373 & 0.00002637 & 0.00011425 & 0.00006870 & 5 & 15 & 0.1\\\\\n",
      "\\textbf{17} & 0.00005367 & 0.99898129 & 0.00001878 & 0.00009023 & 0.00005367 & 18 & 18 & 0.7\\\\\n",
      "\\textbf{18} & 0.00004241 & 0.99899796 & 0.00000209 & 0.00003129 & 0.00004241 & 11 & 43 & 0.6\\\\\n",
      "\\textbf{19} & 0.00004499 & 0.99899500 & 0.00000505 & 0.00003186 & 0.00004499 & 14 & 27 & 0.2\\\\\n",
      "\\textbf{20} & 0.00004371 & 0.99899884 & 0.00000120 & 0.00001805 & 0.00004371 & 12 & 32 & 0.8\\\\\n",
      "\\textbf{21} & 0.00006870 & 0.99896444 & 0.00003566 & 0.00029749 & 0.00006870 & 5 & 15 & 0.8\\\\\n",
      "\\textbf{22} & 0.00006870 & 0.99897521 & 0.00002488 & 0.00011425 & 0.00006870 & 5 & 15 & 0.3\\\\\n",
      "\\textbf{23} & 0.00004224 & 0.99899509 & 0.00000496 & 0.00004254 & 0.00004224 & 13 & 47 & 0.5\\\\\n",
      "\\textbf{24} & 0.00004243 & 0.99899333 & 0.00000672 & 0.00005446 & 0.00004243 & 15 & 44 & 0.4\\\\\n",
      "\\textbf{25} & 0.00006870 & 0.99895736 & 0.00004275 & 0.00022849 & 0.00006870 & 5 & 15 & 0.7\\\\\n",
      "\\textbf{26} & 0.00004238 & 0.99899900 & 0.00000104 & 0.00001565 & 0.00004238 & 9 & 44 & 0.7\\\\\n",
      "\\textbf{27} & 0.00004343 & 0.99899900 & 0.00000104 & 0.00001565 & 0.00004343 & 20 & 34 & 0.7\\\\\n",
      "\\textbf{28} & 0.00004924 & 0.99898615 & 0.00001391 & 0.00014874 & 0.00004924 & 18 & 21 & 0.8\\\\\n",
      "\\textbf{29} & 0.00004433 & 0.99899509 & 0.00000496 & 0.00004254 & 0.00004433 & 17 & 29 & 0.5\\\\\n",
      "\\textbf{30} & 0.00004841 & 0.99898841 & 0.00001165 & 0.00005446 & 0.00004841 & 12 & 21 & 0.4\\\\\n",
      "\\textbf{31} & 0.00004185 & 0.99899796 & 0.00000209 & 0.00003129 & 0.00004185 & 6 & 48 & 0.6\\\\\n",
      "\\textbf{32} & 0.00004201 & 0.99899584 & 0.00000421 & 0.00003186 & 0.00004201 & 7 & 48 & 0.2\\\\\n",
      "\\textbf{33} & 0.00004503 & 0.99898959 & 0.00001046 & 0.00006504 & 0.00004503 & 18 & 27 & 0.7\\\\\n",
      "\\textbf{34} & 0.00004596 & 0.99899500 & 0.00000505 & 0.00003186 & 0.00004596 & 11 & 25 & 0.2\\\\\n",
      "\\textbf{35} & 0.00004599 & 0.99899513 & 0.00000492 & 0.00004254 & 0.00004599 & 19 & 25 & 0.6\\\\\n",
      "\\textbf{36} & 0.00004343 & 0.99899884 & 0.00000120 & 0.00001805 & 0.00004343 & 20 & 34 & 0.8\\\\\n",
      "\\textbf{37} & 0.00004322 & 0.99898979 & 0.00001027 & 0.00005914 & 0.00004322 & 6 & 32 & 0.3\\\\\n",
      "\\textbf{38} & 0.00004383 & 0.99899584 & 0.00000421 & 0.00003186 & 0.00004383 & 13 & 31 & 0.2\\\\\n",
      "\\textbf{39} & 0.00004314 & 0.99899213 & 0.00000792 & 0.00005446 & 0.00004314 & 13 & 36 & 0.4\\\\\n",
      "\\textbf{40} & 0.00004238 & 0.99899884 & 0.00000120 & 0.00001805 & 0.00004238 & 14 & 44 & 0.8\\\\\n",
      "\\textbf{41} & 0.00004355 & 0.99898979 & 0.00001027 & 0.00005914 & 0.00004355 & 14 & 33 & 0.3\\\\\n",
      "\\textbf{42} & 0.00005608 & 0.99899013 & 0.00000993 & 0.00004254 & 0.00005608 & 18 & 17 & 0.2\\\\\n",
      "\\textbf{43} & 0.00006870 & 0.99897607 & 0.00002402 & 0.00011425 & 0.00006870 & 5 & 15 & 0.2\\\\\n",
      "\\textbf{44} & 0.00004229 & 0.99898394 & 0.00001611 & 0.00009924 & 0.00004229 & 14 & 46 & 0.9\\\\\n",
      "    \n",
      "    \\end{tabular}\n",
      "    \\end{adjustbox}}\n",
      "    \\caption{Caption}\n",
      "    \\label{tab:my_label}\n",
      "\\end{table}\n",
      "\n"
     ]
    }
   ],
   "source": [
    "print(LatexCodePre+middle+LatexCodePost)"
   ]
  },
  {
   "cell_type": "code",
   "execution_count": 20,
   "id": "a656b9eb",
   "metadata": {},
   "outputs": [],
   "source": [
    "runs = [] \n",
    "for i in df['params'].unique():\n",
    "    tmpDF = df[df['params'] == i]\n",
    "    runs.append(tmpDF)\n",
    "\n",
    "epsilon = 0.0001\n",
    "best_score_1 = 0\n",
    "best_run_1 = None\n",
    "\n",
    "alpha = 0.999\n",
    "best_score_2 = 0\n",
    "best_run_2 = None\n",
    "\n",
    "for run in runs:\n",
    "    if 1-np.mean(run['pct_kept_powerline']) <= epsilon:\n",
    "        tmp_score_1 = np.mean(run['pct_lost_datapoints'])\n",
    "        if tmp_score_1 > best_score_1:\n",
    "            best_run_1 = run\n",
    "            best_score_1 = tmp_score_1    \n",
    "    \n",
    "    tmp_score_2 = alpha * np.mean(run['pct_kept_powerline']) + (1-alpha)*np.mean(run['pct_lost_datapoints'])\n",
    "    if tmp_score_2 > best_score_2:\n",
    "        best_run_2 = run\n",
    "        best_score_2 = tmp_score_2"
   ]
  },
  {
   "cell_type": "code",
   "execution_count": 41,
   "id": "d5ee8a62",
   "metadata": {
    "scrolled": false
   },
   "outputs": [
    {
     "name": "stdout",
     "output_type": "stream",
     "text": [
      "score 1:\n",
      "Minimum Kept Powerline:  0.999885753455958\n",
      "Avg Kept Powerline:  0.9999736301894081\n",
      "Avg Data reduction:  6.869793025182277e-05\n",
      "\n",
      "score 2:\n",
      "Minimum Kept Powerline:  0.9999843544652356\n",
      "Avg Kept Powerline:  0.999998956964349\n",
      "Avg Data reduction:  4.342848942103424e-05\n"
     ]
    },
    {
     "data": {
      "text/plain": [
       "\"{'nb_neighbors': 20, 'path': '/home/nxw500/data/', 'std_ratio': 34, 'voxel_size': 0.7}\""
      ]
     },
     "execution_count": 41,
     "metadata": {},
     "output_type": "execute_result"
    }
   ],
   "source": [
    "print(\"score 1:\")\n",
    "print(\"Minimum Kept Powerline: \", np.min(best_run_1['pct_kept_powerline']))\n",
    "print(\"Avg Kept Powerline: \", np.mean(best_run_1['pct_kept_powerline']))\n",
    "print(\"Avg Data reduction: \", np.mean(best_run_1['pct_lost_datapoints']))\n",
    "\n",
    "print()\n",
    "print(\"score 2:\")\n",
    "print(\"Minimum Kept Powerline: \", np.min(best_run_2['pct_kept_powerline']))\n",
    "print(\"Avg Kept Powerline: \", np.mean(best_run_2['pct_kept_powerline']))\n",
    "print(\"Avg Data reduction: \", np.mean(best_run_2['pct_lost_datapoints']))\n",
    "#print(best_run_1.iloc[0:15]['total_amount_points'] - best_run_1.iloc[0:15]['new_total_amount_points'])\n",
    "#print(best_run_2.iloc[0:15]['total_amount_points'] - best_run_2.iloc[0:15]['new_total_amount_points'])\n",
    "\n",
    "best_run_2.params.iloc[0]"
   ]
  },
  {
   "cell_type": "code",
   "execution_count": 8,
   "id": "695a395d",
   "metadata": {},
   "outputs": [
    {
     "name": "stdout",
     "output_type": "stream",
     "text": [
      "{'nb_neighbors': 5, 'path': '/home/nxw500/data/', 'std_ratio': 15, 'voxel_size': 0.1}\n",
      "{'nb_neighbors': 20, 'path': '/home/nxw500/data/', 'std_ratio': 34, 'voxel_size': 0.7}\n"
     ]
    }
   ],
   "source": [
    "best_params1 = best_run_1.iloc[0].params.replace(\"'\", '\"')\n",
    "best_params1 = json.loads(best_params1)\n",
    "print(best_params1)\n",
    "\n",
    "best_params2 = best_run_2.iloc[0].params.replace(\"'\", '\"')\n",
    "best_params2 = json.loads(best_params2)\n",
    "print(best_params2)"
   ]
  },
  {
   "cell_type": "code",
   "execution_count": 9,
   "id": "5f2c6619",
   "metadata": {},
   "outputs": [
    {
     "name": "stdout",
     "output_type": "stream",
     "text": [
      "4095\n"
     ]
    }
   ],
   "source": [
    "def GetPathRelations(full_path_to_data):        \n",
    "    ground_removed_image_paths = []\n",
    "    laz_point_cloud_paths = []\n",
    "        \n",
    "    # Find full path to all images\n",
    "    for path in glob.glob(full_path_to_data+'data/ImagesGroundRemovedSmall/*'):\n",
    "        ground_removed_image_paths.append(path)\n",
    "    \n",
    "    # Find full path to all laz files\n",
    "    for path in glob.glob(full_path_to_data+'data/LazFilesWithHeightParam/*'):\n",
    "        laz_point_cloud_paths.append(path)\n",
    "            \n",
    "    ground_removed_image_paths.sort()\n",
    "    laz_point_cloud_paths.sort()\n",
    "    assert(len(ground_removed_image_paths)==len(laz_point_cloud_paths))\n",
    "    return ground_removed_image_paths, laz_point_cloud_paths\n",
    "\n",
    "all_path_relations = GetPathRelations(\"/home/frederik/data/TestData/\")\n",
    "path_tuples = list(zip(*all_path_relations))\n",
    "\n",
    "best_params = best_params1\n",
    "for p in path_tuples[10:11]:\n",
    "    path_img, path_laz = p\n",
    "    \n",
    "    tmp_las = laspy.read(path_laz, laz_backend=laspy.compression.LazBackend.LazrsParallel)\n",
    "    point_data = np.stack([tmp_las.X, tmp_las.Y, tmp_las.Z], axis=0).transpose((1, 0))\n",
    "\n",
    "    # Create o3d Point Cloud\n",
    "    pcd = o3d.geometry.PointCloud()\n",
    "    pcd.points = o3d.utility.Vector3dVector(point_data)\n",
    "    #o3d.visualization.draw_geometries([pcd])\n",
    "    \n",
    "    #o3d.visualization.draw_geometries([pcd])\n",
    "    voxel_down_pcd = pcd.voxel_down_sample(voxel_size=best_params['voxel_size'])\n",
    "\n",
    "    new_pcd, ind = voxel_down_pcd.remove_statistical_outlier(nb_neighbors=best_params['nb_neighbors'],\n",
    "                                                                    std_ratio=best_params['std_ratio'])\n",
    "    \n",
    "    #o3d.visualization.draw_geometries([new_pcd])"
   ]
  },
  {
   "cell_type": "code",
   "execution_count": 18,
   "id": "0dbacf0e",
   "metadata": {},
   "outputs": [],
   "source": [
    "o3d.visualization.draw_geometries([pcd])"
   ]
  },
  {
   "cell_type": "code",
   "execution_count": 19,
   "id": "b490bc1f",
   "metadata": {},
   "outputs": [],
   "source": [
    "o3d.visualization.draw_geometries([new_pcd])"
   ]
  },
  {
   "cell_type": "code",
   "execution_count": 42,
   "id": "09feb4cc",
   "metadata": {},
   "outputs": [
    {
     "data": {
      "text/plain": [
       "[('/home/frederik/data/TestData/data/ImagesGroundRemovedSmall/PUNKTSKY_00005_1km_6205_513_max.tif',\n",
       "  '/home/frederik/data/TestData/data/LazFilesWithHeightParam/PUNKTSKY_00005_1km_6205_513_hag_nn.laz')]"
      ]
     },
     "execution_count": 42,
     "metadata": {},
     "output_type": "execute_result"
    }
   ],
   "source": [
    "path_tuples[10:11]"
   ]
  },
  {
   "cell_type": "code",
   "execution_count": null,
   "id": "8c18d2b0",
   "metadata": {},
   "outputs": [],
   "source": []
  },
  {
   "cell_type": "code",
   "execution_count": null,
   "id": "cc4f33df",
   "metadata": {},
   "outputs": [],
   "source": []
  }
 ],
 "metadata": {
  "kernelspec": {
   "display_name": "Python 3 (ipykernel)",
   "language": "python",
   "name": "python3"
  },
  "language_info": {
   "codemirror_mode": {
    "name": "ipython",
    "version": 3
   },
   "file_extension": ".py",
   "mimetype": "text/x-python",
   "name": "python",
   "nbconvert_exporter": "python",
   "pygments_lexer": "ipython3",
   "version": "3.8.16"
  }
 },
 "nbformat": 4,
 "nbformat_minor": 5
}
