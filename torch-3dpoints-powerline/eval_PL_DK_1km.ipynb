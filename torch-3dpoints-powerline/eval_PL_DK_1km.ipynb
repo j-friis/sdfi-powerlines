{
 "cells": [
  {
   "cell_type": "code",
   "execution_count": 1,
   "id": "b0b8a0dc",
   "metadata": {
    "pycharm": {
     "name": "#%%\n"
    }
   },
   "outputs": [
    {
     "name": "stdout",
     "output_type": "stream",
     "text": [
      "Jupyter environment detected. Enabling Open3D WebVisualizer.\n",
      "[Open3D INFO] WebRTC GUI backend enabled.\n",
      "[Open3D INFO] WebRTCWindowSystem: HTTP handshake server disabled.\n"
     ]
    }
   ],
   "source": [
    "## import the tools\n",
    "import torch\n",
    "import glob\n",
    "from pathlib import Path\n",
    "import os\n",
    "import numpy as np\n",
    "from sklearn.neighbors import NearestNeighbors as NN\n",
    "import glob\n",
    "import pandas as pd\n",
    "import ipdb\n",
    "import laspy\n",
    "import open3d as o3d\n",
    "from tqdm.notebook import tqdm"
   ]
  },
  {
   "cell_type": "code",
   "execution_count": 2,
   "id": "76970f59",
   "metadata": {
    "pycharm": {
     "name": "#%%\n"
    }
   },
   "outputs": [],
   "source": [
    "## import the model tools\n",
    "from torch_geometric.transforms import Compose\n",
    "from torch_points3d.core.data_transform import MinPoints,XYZFeature, AddFeatsByKeys, GridSampling3D, AddOnes\n",
    "from torch_points3d.applications.pretrained_api import PretainedRegistry\n",
    "from torch_geometric.data import Batch, Dataset, Data ,DataLoader\n"
   ]
  },
  {
   "cell_type": "code",
   "execution_count": 3,
   "id": "89faedf7",
   "metadata": {
    "pycharm": {
     "name": "#%%\n"
    }
   },
   "outputs": [],
   "source": [
    "## to find the neighbor points prediction\n",
    "from sklearn.neighbors import BallTree, KDTree\n",
    "import numpy as np\n",
    "def get_nearest(src_points, candidates, k_neighbors=1):\n",
    "    \"\"\"Find nearest neighbors for all source points from a set of candidate points\"\"\"\n",
    "    # src : whole gt points in a file \n",
    "    tree = KDTree(candidates, leaf_size=20, metric='euclidean')\n",
    "\n",
    "    # Find closest points and distances\n",
    "    distances, indices = tree.query(src_points, k=k_neighbors)\n",
    "\n",
    "    # Transpose to get distances and indices into arrays\n",
    "    distances = distances.transpose()\n",
    "    indices = indices.transpose()\n",
    "\n",
    "    # Get closest indices and distances (i.e. array at index 0)\n",
    "    closest = np.squeeze(indices)\n",
    "    closest_dist = distances\n",
    "\n",
    "    return closest"
   ]
  },
  {
   "cell_type": "code",
   "execution_count": 7,
   "id": "f40db7e7",
   "metadata": {},
   "outputs": [
    {
     "name": "stdout",
     "output_type": "stream",
     "text": [
      "[{'transform': 'MinPoints', 'lparams': [512]}, {'transform': 'AddOnes'}, {'transform': 'AddFeatsByKeys', 'params': {'list_add_to_x': [True], 'feat_names': ['ones'], 'delete_feats': [True], 'input_nc_feats': [1]}}, {'transform': 'GridSampling3D', 'params': {'size': '${data.first_subsampling}', 'quantize_coords': True, 'mode': 'last'}}]\n"
     ]
    }
   ],
   "source": [
    "model_folder = \"2023-04-18/12-08-50/\"\n",
    "model_name = \"SEUNet18.pt\"\n",
    "root_path = \"/home/jf/Documents/msc/torch-3dpoints-powerline/\"\n",
    "pl_models_path = root_path+ \"outputs/\" + model_folder + model_name\n",
    "model = torch.load(pl_models_path)\n",
    "model['run_config']['data']['dataroot'] = '/home/jf/msc_data'\n",
    "torch.save(model, root_path+ \"outputs/\" + model_folder + model_name)\n",
    "print(model['run_config'][\"data\"][\"train_transform\"])"
   ]
  },
  {
   "cell_type": "code",
   "execution_count": 8,
   "id": "c1bc4194",
   "metadata": {},
   "outputs": [
    {
     "name": "stdout",
     "output_type": "stream",
     "text": [
      "{'task': 'segmentation', 'class': 'denmark_pl_hough.DenmarkDataset', 'name': 'Denmark', 'dataroot': '/home/jf/msc_data', 'processed_folder': 'processed_hough_20_ones', 'use_category': False, 'visualization': True, 'class_weights': 'log', 'first_subsampling': 0.004, 'train_overlap': 0.25, 'block_size_x': 0.05, 'block_size_y': 0.05, 'canny_lower': 19, 'canny_upper': 101, 'cc_area': 1500, 'hough_lines_treshold': 30, 'max_line_gap': 6, 'min_line_length': 12, 'meters_around_line': 10, 'simplify_tolerance': 8, 'outlier_voxel_size': 0.7, 'outlier_nb_neighbors': 19, 'outlier_std_ratio': 50, 'train_transform': [{'transform': 'MinPoints', 'lparams': [512]}, {'transform': 'AddOnes'}, {'transform': 'AddFeatsByKeys', 'params': {'list_add_to_x': [True], 'feat_names': ['ones'], 'delete_feats': [True], 'input_nc_feats': [1]}}, {'transform': 'GridSampling3D', 'params': {'size': '${data.first_subsampling}', 'quantize_coords': True, 'mode': 'last'}}], 'val_transform': [{'transform': 'MinPoints', 'lparams': [512]}, {'transform': 'AddOnes'}, {'transform': 'AddFeatsByKeys', 'params': {'list_add_to_x': [True], 'feat_names': ['ones'], 'delete_feats': [True], 'input_nc_feats': [1]}}, {'transform': 'GridSampling3D', 'params': {'size': '${data.first_subsampling}', 'quantize_coords': True, 'mode': 'last'}}], 'test_transform': [{'transform': 'MinPoints', 'lparams': [512]}, {'transform': 'AddOnes'}, {'transform': 'AddFeatsByKeys', 'params': {'list_add_to_x': [True], 'feat_names': ['ones'], 'delete_feats': [True], 'input_nc_feats': [1]}}, {'transform': 'GridSampling3D', 'params': {'size': '${data.first_subsampling}', 'quantize_coords': True, 'mode': 'last'}}]}\n"
     ]
    }
   ],
   "source": [
    "print(model['run_config'][\"data\"])"
   ]
  },
  {
   "attachments": {},
   "cell_type": "markdown",
   "id": "218050d0",
   "metadata": {},
   "source": [
    "# MAKE SURE THESE PARAM MATCHES THE ONES ABOVE !!!!!"
   ]
  },
  {
   "cell_type": "code",
   "execution_count": 8,
   "id": "58575c73",
   "metadata": {},
   "outputs": [],
   "source": [
    "## transformer\n",
    "pos_z = [ \"pos_z\" ]\n",
    "list_add_to_x = [ True ]\n",
    "delete_feats = [ True ]\n",
    "lparams = ['512']\n",
    "\n",
    "first_subsampling = model['run_config'][\"data\"][\"first_subsampling\"]\n",
    "transform_test = Compose([MinPoints(512),\n",
    "                     XYZFeature(add_x=False, add_y=False, add_z= True),\n",
    "                     AddFeatsByKeys(list_add_to_x=list_add_to_x, feat_names= pos_z,delete_feats=delete_feats),\n",
    "                     GridSampling3D(mode='last', size=first_subsampling, quantize_coords=True)\n",
    "                     ])"
   ]
  },
  {
   "cell_type": "code",
   "execution_count": 9,
   "id": "884b2ee5",
   "metadata": {
    "pycharm": {
     "name": "#%%\n"
    }
   },
   "outputs": [
    {
     "name": "stderr",
     "output_type": "stream",
     "text": [
      "INFO - 2023-04-11 12:46:59,108 - model_checkpoint - Loading checkpoint from /home/jf/Documents/msc/torch-3dpoints-powerline/outputs/2023-04-09/13-31-16/SEUnet1850Metersblock50cmvoxel.pt\n"
     ]
    },
    {
     "name": "stdout",
     "output_type": "stream",
     "text": [
      "loading processed train split\n",
      "Total of 3213 samples in train set.\n",
      "loading processed val split\n",
      "Total of 269 samples in val set.\n",
      "loading processed test split\n",
      "Total of 390 samples in test set.\n"
     ]
    },
    {
     "name": "stderr",
     "output_type": "stream",
     "text": [
      "INFO - 2023-04-11 12:47:00,639 - model_checkpoint - Available weights : ['latest', 'loss_seg', 'acc', 'macc', 'miou']\n",
      "INFO - 2023-04-11 12:47:00,640 - model_checkpoint - Model loaded from SEUnet1850Metersblock50cmvoxel.pt:latest\n",
      "INFO - 2023-04-11 12:47:00,742 - bn_schedulers - Setting batchnorm momentum at 0.1\n"
     ]
    }
   ],
   "source": [
    "model_pl = PretainedRegistry.from_file(pl_models_path).cuda()"
   ]
  },
  {
   "cell_type": "markdown",
   "id": "f366fb27",
   "metadata": {
    "pycharm": {
     "name": "#%% md\n"
    }
   },
   "source": [
    "## Process with the normalize data"
   ]
  },
  {
   "cell_type": "code",
   "execution_count": 15,
   "id": "465bd2ea",
   "metadata": {
    "pycharm": {
     "name": "#%%\n"
    }
   },
   "outputs": [],
   "source": [
    "## load test pt with normalized\n",
    "\n",
    "## load transform pt pre\n",
    "processed_folder_name = model['run_config']['data'][\"processed_folder\"] # \"processed_hough\"\n",
    "data_root_path = model['run_config']['data']['dataroot'] + \"/denmark\"\n",
    "processed_data_root_path = os.path.join(data_root_path, processed_folder_name)#\"/home/jf/msc_data/denmark/processed_hough\"\n",
    "test_fold = processed_data_root_path + f\"/test_0_({model['run_config']['data']['block_size_x']}, {model['run_config']['data']['block_size_y']})\"\n",
    "\n",
    "pre_trans_path = test_fold + \"/stats.pt\"\n",
    "vis_out_folder = processed_data_root_path + '/vis/'\n",
    "\n",
    "pre_transform = torch.load(pre_trans_path)"
   ]
  },
  {
   "cell_type": "code",
   "execution_count": 16,
   "id": "505fbc39",
   "metadata": {},
   "outputs": [
    {
     "name": "stdout",
     "output_type": "stream",
     "text": [
      "pre_transform={'room_names': ['PUNKTSKY_00005_1km_6219_494', 'PUNKTSKY_00005_1km_6211_474'], 'room_coord_min': [array([ 4.9406794e+07,  6.2190000e+08, -2.6480000e+03]), array([ 4.7416593e+07,  6.2110000e+08, -2.6480000e+03])], 'room_coord_max': [array([4.94999990e+07, 6.21971228e+08, 1.39850000e+04]), array([4.74999990e+07, 6.21199999e+08, 1.39850000e+04])], 'room_coord_scale': [array([ 4660.25,  3561.4 , 16633.  ]), array([ 4170.3 ,  4999.95, 16633.  ])], 'global_z': (-2648.0, 13985.0)}\n"
     ]
    }
   ],
   "source": [
    "print(f\"{pre_transform=}\")\n"
   ]
  },
  {
   "cell_type": "code",
   "execution_count": 18,
   "id": "28ab7dd8",
   "metadata": {},
   "outputs": [
    {
     "data": {
      "text/plain": [
       "[]"
      ]
     },
     "execution_count": 18,
     "metadata": {},
     "output_type": "execute_result"
    }
   ],
   "source": []
  },
  {
   "cell_type": "code",
   "execution_count": 12,
   "id": "588f7976",
   "metadata": {},
   "outputs": [
    {
     "ename": "KeyboardInterrupt",
     "evalue": "",
     "output_type": "error",
     "traceback": [
      "\u001b[0;31m---------------------------------------------------------------------------\u001b[0m",
      "\u001b[0;31mKeyboardInterrupt\u001b[0m                         Traceback (most recent call last)",
      "Cell \u001b[0;32mIn[12], line 53\u001b[0m\n\u001b[1;32m     50\u001b[0m         file_save \u001b[39m=\u001b[39m \u001b[39mopen\u001b[39m(vis_out, \u001b[39m'\u001b[39m\u001b[39mw\u001b[39m\u001b[39m'\u001b[39m)\n\u001b[1;32m     52\u001b[0m     file_save \u001b[39m=\u001b[39m \u001b[39mopen\u001b[39m(vis_out_folder \u001b[39m+\u001b[39m room_name \u001b[39m+\u001b[39m\u001b[39m'\u001b[39m\u001b[39mpre.txt\u001b[39m\u001b[39m'\u001b[39m, \u001b[39m'\u001b[39m\u001b[39ma\u001b[39m\u001b[39m'\u001b[39m)\n\u001b[0;32m---> 53\u001b[0m     np\u001b[39m.\u001b[39;49msavetxt(file_save, combine_pre, fmt \u001b[39m=\u001b[39;49m \u001b[39m'\u001b[39;49m\u001b[39m%1.5f\u001b[39;49;00m\u001b[39m'\u001b[39;49m)\n\u001b[1;32m     54\u001b[0m \u001b[39m#     file_save.write(\"\\n\")    \u001b[39;00m\n\u001b[1;32m     55\u001b[0m \u001b[39m#     break\u001b[39;00m\n\u001b[1;32m     56\u001b[0m \u001b[39mprint\u001b[39m(\u001b[39m\"\u001b[39m\u001b[39msave finished\u001b[39m\u001b[39m\"\u001b[39m)\n",
      "File \u001b[0;32m<__array_function__ internals>:5\u001b[0m, in \u001b[0;36msavetxt\u001b[0;34m(*args, **kwargs)\u001b[0m\n",
      "File \u001b[0;32m~/miniconda3/envs/msc/lib/python3.8/site-packages/numpy/lib/npyio.py:1433\u001b[0m, in \u001b[0;36msavetxt\u001b[0;34m(fname, X, fmt, delimiter, newline, header, footer, comments, encoding)\u001b[0m\n\u001b[1;32m   1431\u001b[0m \u001b[39mfor\u001b[39;00m row \u001b[39min\u001b[39;00m X:\n\u001b[1;32m   1432\u001b[0m     \u001b[39mtry\u001b[39;00m:\n\u001b[0;32m-> 1433\u001b[0m         v \u001b[39m=\u001b[39m \u001b[39mformat\u001b[39;49m \u001b[39m%\u001b[39;49m \u001b[39mtuple\u001b[39;49m(row) \u001b[39m+\u001b[39m newline\n\u001b[1;32m   1434\u001b[0m     \u001b[39mexcept\u001b[39;00m \u001b[39mTypeError\u001b[39;00m \u001b[39mas\u001b[39;00m e:\n\u001b[1;32m   1435\u001b[0m         \u001b[39mraise\u001b[39;00m \u001b[39mTypeError\u001b[39;00m(\u001b[39m\"\u001b[39m\u001b[39mMismatch between array dtype (\u001b[39m\u001b[39m'\u001b[39m\u001b[39m%s\u001b[39;00m\u001b[39m'\u001b[39m\u001b[39m) and \u001b[39m\u001b[39m\"\u001b[39m\n\u001b[1;32m   1436\u001b[0m                         \u001b[39m\"\u001b[39m\u001b[39mformat specifier (\u001b[39m\u001b[39m'\u001b[39m\u001b[39m%s\u001b[39;00m\u001b[39m'\u001b[39m\u001b[39m)\u001b[39m\u001b[39m\"\u001b[39m\n\u001b[1;32m   1437\u001b[0m                         \u001b[39m%\u001b[39m (\u001b[39mstr\u001b[39m(X\u001b[39m.\u001b[39mdtype), \u001b[39mformat\u001b[39m)) \u001b[39mfrom\u001b[39;00m \u001b[39me\u001b[39;00m\n",
      "\u001b[0;31mKeyboardInterrupt\u001b[0m: "
     ]
    }
   ],
   "source": [
    "## loop for every files\n",
    "## delete files\n",
    "global_z = pre_transform['global_z']\n",
    "room_names = pre_transform['room_names']\n",
    "room_coord_mins = pre_transform['room_coord_min']\n",
    "room_coord_maxs = pre_transform['room_coord_max']\n",
    "room_coord_scales = pre_transform['room_coord_scale']\n",
    "files = list(glob.glob(test_fold + \"*cloud*pt\"))\n",
    "\n",
    "for file in files:\n",
    "    #print(file)\n",
    "    sample = os.path.join(test_fold, file)\n",
    "    pt_data = torch.load(sample)\n",
    "    room_index = pt_data['room_idx']\n",
    "    room_name = room_names[room_index]\n",
    "    vis_out = os.path.join(vis_out_folder, room_name)\n",
    "    Path(vis_out_folder).mkdir(exist_ok=True, parents=True)\n",
    "\n",
    "    room_coord_scale = room_coord_scales[room_index]\n",
    "    pos_ = pt_data['points']\n",
    "    pt_ori = pos_ * room_coord_scale + room_coord_mins[room_index]\n",
    "    data_s = transform_test(Batch(pos=torch.from_numpy(pos_).float(), batch=torch.zeros(pos_.shape[0]).long()))\n",
    "    # data_s = transform_test(Batch(pos=torch.from_numpy(pos_).float(), batch=torch.zeros(1).long()))\n",
    "    data_s.y = torch.zeros(data_s.batch.shape).long()\n",
    "    f = get_nearest(pos_, data_s.pos)\n",
    "\n",
    "\n",
    "    with torch.no_grad():\n",
    "        model_pl.eval()\n",
    "        model_pl.set_input(data_s, \"cuda\")\n",
    "        model_pl.forward(data_s)\n",
    "    \n",
    "    pre = model_pl.output.cpu().numpy()\n",
    "    m = torch.nn.functional.softmax(torch.tensor(pre), dim=1)\n",
    "    cla_pre = np.argmax(m, axis=1)\n",
    "    pre_ori = np.arange(len(pos_))\n",
    "    if len(pos_) == 1:\n",
    "        print(file)\n",
    "        print(data_s)\n",
    "        pre_ori[0] = cla_pre[0]\n",
    "    else:\n",
    "        for i in pre_ori:\n",
    "            pre_ori[i] = cla_pre[f[i]]\n",
    "    combine_pre = np.column_stack((pt_ori, pre_ori.T))\n",
    "\n",
    "    vis_out = vis_out_folder + room_name +'pre.txt'\n",
    "    if os.path.exists(vis_out):\n",
    "        file_save = open(vis_out, 'a')\n",
    "    else:\n",
    "        file_save = open(vis_out, 'w')\n",
    "\n",
    "    file_save = open(vis_out_folder + room_name +'pre.txt', 'a')\n",
    "    np.savetxt(file_save, combine_pre, fmt = '%1.5f')\n",
    "#     file_save.write(\"\\n\")    \n",
    "#     break\n",
    "print(\"save finished\")"
   ]
  },
  {
   "cell_type": "markdown",
   "id": "a66e07e3",
   "metadata": {
    "pycharm": {
     "name": "#%% md\n"
    }
   },
   "source": [
    "### Simple vis"
   ]
  },
  {
   "cell_type": "code",
   "execution_count": 33,
   "id": "fb2043fa",
   "metadata": {
    "pycharm": {
     "name": "#%%\n"
    }
   },
   "outputs": [
    {
     "data": {
      "text/plain": [
       "(array([[4.74707370e+07, 6.21124992e+08, 5.27100000e+03, 0.00000000e+00],\n",
       "        [4.74707270e+07, 6.21124991e+08, 5.22400000e+03, 0.00000000e+00],\n",
       "        [4.74706890e+07, 6.21124986e+08, 5.22600000e+03, 0.00000000e+00],\n",
       "        ...,\n",
       "        [4.74875440e+07, 6.21127988e+08, 4.66400000e+03, 0.00000000e+00],\n",
       "        [4.74875730e+07, 6.21127985e+08, 4.66900000e+03, 0.00000000e+00],\n",
       "        [4.74875860e+07, 6.21127981e+08, 4.77100000e+03, 0.00000000e+00]]),\n",
       " (5033594, 4))"
      ]
     },
     "execution_count": 33,
     "metadata": {},
     "output_type": "execute_result"
    }
   ],
   "source": [
    "## read path\n",
    "filename = \"PUNKTSKY_00005_1km_6211_474\"\n",
    "vis_out_folder\n",
    "pred_path = os.path.join(vis_out_folder, filename+\"pre.txt\")\n",
    "pred_data = pd.read_csv(pred_path, sep=\" \", header=None).values\n",
    "pred_data, pred_data.shape"
   ]
  },
  {
   "cell_type": "code",
   "execution_count": 34,
   "id": "cd727bd8",
   "metadata": {},
   "outputs": [],
   "source": [
    "## vis\n",
    "import matplotlib.pyplot as plt\n",
    "import matplotlib\n",
    "#%matplotlib notebook"
   ]
  },
  {
   "cell_type": "code",
   "execution_count": 35,
   "id": "20040075",
   "metadata": {
    "pycharm": {
     "name": "#%%\n"
    }
   },
   "outputs": [],
   "source": [
    "idx = np.arange(len(pred_data))\n",
    "np.random.shuffle(idx)\n",
    "idx = idx[:30000]\n",
    "\n",
    "vmin = pred_data[idx, -1].min()\n",
    "vmax = pred_data[idx, -1].max()\n",
    "cm = plt.colormaps['RdYlBu']"
   ]
  },
  {
   "cell_type": "code",
   "execution_count": 36,
   "id": "68a95949",
   "metadata": {},
   "outputs": [
    {
     "data": {
      "text/plain": [
       "<matplotlib.colorbar.Colorbar at 0x7f72285da910>"
      ]
     },
     "execution_count": 36,
     "metadata": {},
     "output_type": "execute_result"
    },
    {
     "data": {
      "image/png": "[encoded data removed]",
      "text/plain": [
       "<Figure size 640x480 with 2 Axes>"
      ]
     },
     "metadata": {},
     "output_type": "display_data"
    }
   ],
   "source": [
    "plt.figure()\n",
    "sc = plt.scatter(pred_data[idx, 0], pred_data[idx, 1], c =pred_data[idx, -1],\n",
    "                cmap=cm, vmin=vmin, vmax=vmax, s=5\n",
    "            )\n",
    "plt.colorbar(sc)"
   ]
  },
  {
   "attachments": {},
   "cell_type": "markdown",
   "id": "51cd4720",
   "metadata": {},
   "source": [
    "# Convert prediction from pt to las file"
   ]
  },
  {
   "attachments": {},
   "cell_type": "markdown",
   "id": "aa8e46e4",
   "metadata": {},
   "source": [
    "## Reading in the laspy data. Both the unprocessed and the processed data"
   ]
  },
  {
   "cell_type": "code",
   "execution_count": 37,
   "id": "0202508c",
   "metadata": {},
   "outputs": [
    {
     "name": "stdout",
     "output_type": "stream",
     "text": [
      "/home/jf/msc_data/denmark/raw/test/PUNKTSKY_00005_1km_6211_474.laz\n",
      "/home/jf/msc_data/denmark/raw/test/NewLaz/PUNKTSKY_00005_1km_6211_474.laz\n",
      "4095\n",
      "4095\n",
      "15599105\n",
      "5050945\n"
     ]
    }
   ],
   "source": [
    "normal_laz_file = os.path.join(data_root_path, \"raw\", \"test\",filename+\".laz\")\n",
    "processed_laz_file = os.path.join(data_root_path, \"raw\", \"test\", \"NewLaz\", filename+\".laz\")\n",
    "print(normal_laz_file)\n",
    "print(processed_laz_file)\n",
    "non_processed_laz = laspy.read(normal_laz_file, laz_backend=laspy.compression.LazBackend.LazrsParallel)\n",
    "processed_laz = laspy.read(processed_laz_file, laz_backend=laspy.compression.LazBackend.LazrsParallel)\n",
    "non_processed_point_data = np.stack([non_processed_laz.X, non_processed_laz.Y, non_processed_laz.Z], axis=0).transpose((1, 0))\n",
    "processed_point_data = np.stack([processed_laz.X, processed_laz.Y, processed_laz.Z], axis=0).transpose((1, 0))\n",
    "print(len(non_processed_point_data))\n",
    "print(len(processed_point_data))\n"
   ]
  },
  {
   "attachments": {},
   "cell_type": "markdown",
   "id": "42ff6366",
   "metadata": {},
   "source": [
    "### Getting the powerline coordinates"
   ]
  },
  {
   "cell_type": "code",
   "execution_count": 38,
   "id": "25e82ad7",
   "metadata": {},
   "outputs": [],
   "source": [
    "powerline_pts = pred_data[np.where(pred_data[:,3] == 1)].copy()\n",
    "powerline_pts_coord = powerline_pts[:,:-1].astype(np.int32)"
   ]
  },
  {
   "attachments": {},
   "cell_type": "markdown",
   "id": "68bab539",
   "metadata": {},
   "source": [
    "#### Sanity checks for converting from pt to las data\n"
   ]
  },
  {
   "cell_type": "code",
   "execution_count": 39,
   "id": "383c9728",
   "metadata": {},
   "outputs": [
    {
     "name": "stdout",
     "output_type": "stream",
     "text": [
      "There are (5033594, 4) points in the las file\n",
      "There are (5033594, 4) points from the pt files\n"
     ]
    }
   ],
   "source": [
    "print(f\"There are {pred_data.shape} points in the las file\")\n",
    "print(f\"There are {pred_data.shape} points from the pt files\")\n",
    "#Some points could get lost if there are not that many points in the tile\n"
   ]
  },
  {
   "cell_type": "code",
   "execution_count": 40,
   "id": "016635e1",
   "metadata": {},
   "outputs": [
    {
     "name": "stdout",
     "output_type": "stream",
     "text": [
      "[[ 47470631 621124981      4992]\n",
      " [ 47470756 621124999      4708]\n",
      " [ 47470632 621124981      4924]\n",
      " [ 47470728 621124995      4690]\n",
      " [ 47470699 621124991      4673]\n",
      " [ 47470671 621124988      4656]\n",
      " [ 47470644 621124985      4640]\n",
      " [ 47470788 621124968      5117]\n",
      " [ 47470714 621124958      5245]\n",
      " [ 47470682 621124954      5240]]\n",
      "[[ 47471362 621126981      4950]\n",
      " [ 47471023 621126933      5533]\n",
      " [ 47470941 621126922      5673]\n",
      " [ 47470901 621126916      5742]\n",
      " [ 47471440 621126992      4752]\n",
      " [ 47471043 621126936      5435]\n",
      " [ 47470939 621126922      5615]\n",
      " [ 47471402 621126987      4751]\n",
      " [ 47471051 621126938      5353]\n",
      " [ 47470948 621126924      5531]]\n",
      "laz data x max 47499999\n",
      "pt x max 47499997\n",
      "laz data y max 621199999\n",
      "pt y max 621199962\n",
      "laz data z max 16040\n",
      "pt z max 8979\n"
     ]
    }
   ],
   "source": [
    "print(powerline_pts_coord[:10])\n",
    "print(processed_point_data[:10])\n",
    "\n",
    "print(f\"laz data x max {np.max(processed_point_data[:,0])}\")\n",
    "print(f\"pt x max {np.max(powerline_pts_coord[:,0])}\")\n",
    "print(f\"laz data y max {np.max(processed_point_data[:,1])}\")\n",
    "print(f\"pt y max {np.max(powerline_pts_coord[:,1])}\")\n",
    "print(f\"laz data z max {np.max(processed_point_data[:,2])}\")\n",
    "print(f\"pt z max {np.max(powerline_pts_coord[:,2])}\")\n"
   ]
  },
  {
   "attachments": {},
   "cell_type": "markdown",
   "id": "41996fce",
   "metadata": {},
   "source": [
    "### Viz the las files"
   ]
  },
  {
   "cell_type": "code",
   "execution_count": 41,
   "id": "9a29b59a",
   "metadata": {},
   "outputs": [
    {
     "name": "stdout",
     "output_type": "stream",
     "text": [
      "31418\n"
     ]
    }
   ],
   "source": [
    "# Visualise all data\n",
    "geom = o3d.geometry.PointCloud()\n",
    "geom.points = o3d.utility.Vector3dVector(non_processed_point_data)\n",
    "o3d.visualization.draw_geometries([geom])\n",
    "print(np.sum(non_processed_laz.classification == 14))"
   ]
  },
  {
   "cell_type": "code",
   "execution_count": 42,
   "id": "4acb4dfd",
   "metadata": {},
   "outputs": [
    {
     "name": "stdout",
     "output_type": "stream",
     "text": [
      "31388\n"
     ]
    }
   ],
   "source": [
    "# Visualise all data after removal of points\n",
    "geom = o3d.geometry.PointCloud()\n",
    "geom.points = o3d.utility.Vector3dVector(processed_point_data)\n",
    "o3d.visualization.draw_geometries([geom])\n",
    "print(np.sum(processed_laz.classification == 14))"
   ]
  },
  {
   "attachments": {},
   "cell_type": "markdown",
   "id": "346b07ba",
   "metadata": {},
   "source": [
    "### Add dimension to processed las file "
   ]
  },
  {
   "cell_type": "code",
   "execution_count": 43,
   "id": "58db4316",
   "metadata": {},
   "outputs": [],
   "source": [
    "processed_laz.add_extra_dim(laspy.ExtraBytesParams(\n",
    "    name=\"prediction\",\n",
    "    type=np.uint8,\n",
    "    description=\"The prediction of the model\"\n",
    "))"
   ]
  },
  {
   "cell_type": "code",
   "execution_count": 44,
   "id": "0196d663",
   "metadata": {},
   "outputs": [],
   "source": [
    "# Get the idx of the powerline points in the las file\n",
    "idx = get_nearest(powerline_pts_coord,processed_point_data)\n",
    "pred = np.zeros(len(processed_point_data))\n",
    "pred[idx] = 1\n",
    "processed_laz.prediction = pred"
   ]
  },
  {
   "attachments": {},
   "cell_type": "markdown",
   "id": "0774de85",
   "metadata": {},
   "source": [
    "#### Viz all the powerline points"
   ]
  },
  {
   "cell_type": "code",
   "execution_count": 45,
   "id": "97f139d1",
   "metadata": {},
   "outputs": [],
   "source": [
    "powerline_las = processed_laz[processed_laz.prediction == 1]\n",
    "powerline_points_data = np.stack([powerline_las.X, powerline_las.Y, powerline_las.Z], axis=0).transpose((1, 0))"
   ]
  },
  {
   "cell_type": "code",
   "execution_count": 46,
   "id": "f21b4945",
   "metadata": {},
   "outputs": [],
   "source": [
    "geom = o3d.geometry.PointCloud()\n",
    "geom.points = o3d.utility.Vector3dVector(powerline_points_data)\n",
    "o3d.visualization.draw_geometries([geom])"
   ]
  },
  {
   "attachments": {},
   "cell_type": "markdown",
   "id": "f8f8596e",
   "metadata": {},
   "source": [
    "#### Save the new file"
   ]
  },
  {
   "cell_type": "code",
   "execution_count": 47,
   "id": "9b95fd33",
   "metadata": {},
   "outputs": [],
   "source": [
    "processed_data_root_path = os.path.join(data_root_path, processed_folder_name)#\"/home/jf/msc_data/denmark/processed_hough\"\n",
    "eval_folder = os.path.join(processed_data_root_path, \"eval\")\n",
    "Path(eval_folder).mkdir(exist_ok=True, parents=True)\n",
    "eval_file_name = os.path.join(eval_folder, filename+\".laz\")\n",
    "processed_laz.write(str(eval_file_name), do_compress =True, laz_backend=laspy.compression.LazBackend.LazrsParallel)"
   ]
  },
  {
   "cell_type": "markdown",
   "id": "de9e487b",
   "metadata": {},
   "source": [
    "### check the individual pt\n"
   ]
  },
  {
   "cell_type": "code",
   "execution_count": 48,
   "id": "5c95df9c",
   "metadata": {
    "pycharm": {
     "name": "#%%\n"
    }
   },
   "outputs": [
    {
     "ename": "FileNotFoundError",
     "evalue": "[Errno 2] No such file or directory: '/home/jf/msc_data/denmark/processed_hough_50cm/test_0_(0.05, 0.05)/PUNKTSKY_00005_1km_6211_474_cloud_56.pt'",
     "output_type": "error",
     "traceback": [
      "\u001b[0;31m---------------------------------------------------------------------------\u001b[0m",
      "\u001b[0;31mFileNotFoundError\u001b[0m                         Traceback (most recent call last)",
      "Cell \u001b[0;32mIn[48], line 3\u001b[0m\n\u001b[1;32m      1\u001b[0m onesample \u001b[39m=\u001b[39m test_fold \u001b[39m+\u001b[39m \u001b[39m\"\u001b[39m\u001b[39mPUNKTSKY_00005_1km_6211_474_cloud_56.pt\u001b[39m\u001b[39m\"\u001b[39m\n\u001b[1;32m      2\u001b[0m \u001b[39m#onesample = \"/home/dmn774/data/Deep1/SegmentationDenmark/Lidar_tiles_KU/Powerlines/test_some/denmark/processed/test_0_(0.05, 0.05)/PUNKTSKY_00005_1km_6090_507_cloud_335.pt\"\u001b[39;00m\n\u001b[0;32m----> 3\u001b[0m pt_data \u001b[39m=\u001b[39m torch\u001b[39m.\u001b[39;49mload(onesample)\n\u001b[1;32m      4\u001b[0m pt_data[\u001b[39m'\u001b[39m\u001b[39mpoints\u001b[39m\u001b[39m'\u001b[39m]\u001b[39m.\u001b[39mshape, pt_data[\u001b[39m'\u001b[39m\u001b[39mpoints\u001b[39m\u001b[39m'\u001b[39m]\n\u001b[1;32m      5\u001b[0m data_s \u001b[39m=\u001b[39m transform_test(Batch(pos\u001b[39m=\u001b[39mtorch\u001b[39m.\u001b[39mfrom_numpy(pos_)\u001b[39m.\u001b[39mfloat(), batch\u001b[39m=\u001b[39mtorch\u001b[39m.\u001b[39mzeros(pos_\u001b[39m.\u001b[39mshape[\u001b[39m0\u001b[39m])\u001b[39m.\u001b[39mlong()))\n",
      "File \u001b[0;32m~/miniconda3/envs/msc/lib/python3.8/site-packages/torch/serialization.py:699\u001b[0m, in \u001b[0;36mload\u001b[0;34m(f, map_location, pickle_module, **pickle_load_args)\u001b[0m\n\u001b[1;32m    696\u001b[0m \u001b[39mif\u001b[39;00m \u001b[39m'\u001b[39m\u001b[39mencoding\u001b[39m\u001b[39m'\u001b[39m \u001b[39mnot\u001b[39;00m \u001b[39min\u001b[39;00m pickle_load_args\u001b[39m.\u001b[39mkeys():\n\u001b[1;32m    697\u001b[0m     pickle_load_args[\u001b[39m'\u001b[39m\u001b[39mencoding\u001b[39m\u001b[39m'\u001b[39m] \u001b[39m=\u001b[39m \u001b[39m'\u001b[39m\u001b[39mutf-8\u001b[39m\u001b[39m'\u001b[39m\n\u001b[0;32m--> 699\u001b[0m \u001b[39mwith\u001b[39;00m _open_file_like(f, \u001b[39m'\u001b[39;49m\u001b[39mrb\u001b[39;49m\u001b[39m'\u001b[39;49m) \u001b[39mas\u001b[39;00m opened_file:\n\u001b[1;32m    700\u001b[0m     \u001b[39mif\u001b[39;00m _is_zipfile(opened_file):\n\u001b[1;32m    701\u001b[0m         \u001b[39m# The zipfile reader is going to advance the current file position.\u001b[39;00m\n\u001b[1;32m    702\u001b[0m         \u001b[39m# If we want to actually tail call to torch.jit.load, we need to\u001b[39;00m\n\u001b[1;32m    703\u001b[0m         \u001b[39m# reset back to the original position.\u001b[39;00m\n\u001b[1;32m    704\u001b[0m         orig_position \u001b[39m=\u001b[39m opened_file\u001b[39m.\u001b[39mtell()\n",
      "File \u001b[0;32m~/miniconda3/envs/msc/lib/python3.8/site-packages/torch/serialization.py:230\u001b[0m, in \u001b[0;36m_open_file_like\u001b[0;34m(name_or_buffer, mode)\u001b[0m\n\u001b[1;32m    228\u001b[0m \u001b[39mdef\u001b[39;00m \u001b[39m_open_file_like\u001b[39m(name_or_buffer, mode):\n\u001b[1;32m    229\u001b[0m     \u001b[39mif\u001b[39;00m _is_path(name_or_buffer):\n\u001b[0;32m--> 230\u001b[0m         \u001b[39mreturn\u001b[39;00m _open_file(name_or_buffer, mode)\n\u001b[1;32m    231\u001b[0m     \u001b[39melse\u001b[39;00m:\n\u001b[1;32m    232\u001b[0m         \u001b[39mif\u001b[39;00m \u001b[39m'\u001b[39m\u001b[39mw\u001b[39m\u001b[39m'\u001b[39m \u001b[39min\u001b[39;00m mode:\n",
      "File \u001b[0;32m~/miniconda3/envs/msc/lib/python3.8/site-packages/torch/serialization.py:211\u001b[0m, in \u001b[0;36m_open_file.__init__\u001b[0;34m(self, name, mode)\u001b[0m\n\u001b[1;32m    210\u001b[0m \u001b[39mdef\u001b[39;00m \u001b[39m__init__\u001b[39m(\u001b[39mself\u001b[39m, name, mode):\n\u001b[0;32m--> 211\u001b[0m     \u001b[39msuper\u001b[39m(_open_file, \u001b[39mself\u001b[39m)\u001b[39m.\u001b[39m\u001b[39m__init__\u001b[39m(\u001b[39mopen\u001b[39;49m(name, mode))\n",
      "\u001b[0;31mFileNotFoundError\u001b[0m: [Errno 2] No such file or directory: '/home/jf/msc_data/denmark/processed_hough_50cm/test_0_(0.05, 0.05)/PUNKTSKY_00005_1km_6211_474_cloud_56.pt'"
     ]
    }
   ],
   "source": [
    "onesample = test_fold + \"PUNKTSKY_00005_1km_6211_474_cloud_56.pt\"\n",
    "#onesample = \"/home/dmn774/data/Deep1/SegmentationDenmark/Lidar_tiles_KU/Powerlines/test_some/denmark/processed/test_0_(0.05, 0.05)/PUNKTSKY_00005_1km_6090_507_cloud_335.pt\"\n",
    "pt_data = torch.load(onesample)\n",
    "pt_data['points'].shape, pt_data['points']\n",
    "data_s = transform_test(Batch(pos=torch.from_numpy(pos_).float(), batch=torch.zeros(pos_.shape[0]).long()))\n",
    "# data_s = transform_test(Batch(pos=torch.from_numpy(pos_).float(), batch=torch.zeros(1).long()))\n",
    "data_s.y = torch.zeros(data_s.batch.shape).long()\n"
   ]
  },
  {
   "cell_type": "code",
   "execution_count": null,
   "id": "c09acb17",
   "metadata": {
    "pycharm": {
     "name": "#%%\n"
    }
   },
   "outputs": [],
   "source": [
    "### check the individual pt\n",
    "\n",
    "# pos_ = pt_data['points']\n",
    "# data_s = transform_test(Batch(pos=torch.from_numpy(pos_).float(), batch=torch.zeros(pos_.shape[0]).long()))\n",
    "# # data_s = transform_test(Batch(pos=torch.from_numpy(pos_).float(), batch=torch.zeros(1).long()))\n",
    "# data_s.y = torch.zeros(data_s.batch.shape).long()\n",
    "# f = get_nearest(pos_, data_s.pos)\n",
    "# f.shape, f\n",
    "# f.max(), data_s.pos.shape\n",
    "\n",
    "# with torch.no_grad():\n",
    "#     model_pl.set_input(data_s, \"cuda\")\n",
    "#     model_pl.forward(data_s)\n",
    "\n",
    "# pre = model_pl.output.cpu().numpy()\n",
    "# pre.shape"
   ]
  },
  {
   "cell_type": "code",
   "execution_count": null,
   "id": "795106d0",
   "metadata": {
    "pycharm": {
     "name": "#%%\n"
    }
   },
   "outputs": [],
   "source": [
    "## change the model config path\n",
    "# model_path = \"./outputs/2022-02-16/11-00-40/PointNet_old.pt\"\n",
    "# model = torch.load(model_path)\n",
    "# model['run_config']['data']['dataroot'] = '/home/dmn774/data/Deep1/SegmentationDenmark/Lidar_tiles_KU_one/'\n",
    "# torch.save(model, \"./outputs/2022-02-16/11-00-40/PointNet_modified.pt\")"
   ]
  },
  {
   "cell_type": "code",
   "execution_count": null,
   "id": "5989cfd2",
   "metadata": {
    "pycharm": {
     "name": "#%%\n"
    }
   },
   "outputs": [
    {
     "data": {
      "text/plain": [
       "0"
      ]
     },
     "execution_count": 33,
     "metadata": {},
     "output_type": "execute_result"
    }
   ],
   "source": [
    "processed_split_folder = \"/home/dmn774/data/Deep1/SegmentationDenmark/Lidar_tiles_KU_for_exp_allClasses/denmark/processed/\"\n",
    "processed_split_folder = \"/home/dmn774/data/Deep1/SegmentationDenmark/Lidar_tiles_KU_one/denmark/processed/\"\n",
    "\n",
    "processed_split_folder = \"/home/dmn774/data/Deep1/SegmentationDenmark/Lidar_tiles_KU/Powerlines/test_some/denmark/processed\"\n",
    "\n",
    "test_fold = processed_split_folder + \"test_0_(0.05, 0.05)/\"\n",
    "processed_file_names = list(Path(test_fold).glob(\"*cloud_*.pt\"))\n",
    "len(processed_file_names)\n"
   ]
  }
 ],
 "metadata": {
  "kernelspec": {
   "display_name": "Python 3 (ipykernel)",
   "language": "python",
   "name": "python3"
  },
  "language_info": {
   "codemirror_mode": {
    "name": "ipython",
    "version": 3
   },
   "file_extension": ".py",
   "mimetype": "text/x-python",
   "name": "python",
   "nbconvert_exporter": "python",
   "pygments_lexer": "ipython3",
   "version": "3.8.16"
  },
  "vscode": {
   "interpreter": {
    "hash": "2bfe5fc19ee440272b50e27189dca9d766ee16bd940e6c96fe401988e2293299"
   }
  }
 },
 "nbformat": 4,
 "nbformat_minor": 5
}
