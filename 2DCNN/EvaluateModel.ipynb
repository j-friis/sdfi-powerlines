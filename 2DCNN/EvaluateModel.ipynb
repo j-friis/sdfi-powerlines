{
 "cells": [
  {
   "cell_type": "code",
   "execution_count": 1,
   "id": "abad4046",
   "metadata": {},
   "outputs": [],
   "source": [
    "import pandas as pd\n",
    "import numpy as np\n",
    "import glob\n",
    "import laspy\n",
    "#import open3d as o3d\n",
    "import cv2\n",
    "\n",
    "import matplotlib.pyplot as plt\n",
    "\n",
    "import torch\n",
    "import torchvision.transforms as transforms\n",
    "import torch.nn as nn\n",
    "import torch.optim as optim\n",
    "import torch.nn.functional as F\n",
    "\n",
    "from sklearn.model_selection import train_test_split\n",
    "\n",
    "from PIL import Image"
   ]
  },
  {
   "cell_type": "code",
   "execution_count": null,
   "id": "c9ee1c3f",
   "metadata": {},
   "outputs": [],
   "source": []
  },
  {
   "cell_type": "code",
   "execution_count": 2,
   "id": "7da55369",
   "metadata": {},
   "outputs": [],
   "source": [
    "folder_name = \"\"\n",
    "\n",
    "#trainloader = torch.load(folder_name+\"trainloader.pt\")\n",
    "#valloader = torch.load(\"valloader.pt\")\n",
    "testloader = torch.load(folder_name+\"testloader.pt\")"
   ]
  },
  {
   "cell_type": "code",
   "execution_count": null,
   "id": "d8dc9e4d",
   "metadata": {},
   "outputs": [],
   "source": []
  },
  {
   "cell_type": "code",
   "execution_count": 2,
   "id": "066bd676",
   "metadata": {},
   "outputs": [],
   "source": [
    "class conv_block(nn.Module):\n",
    "    def __init__(self, in_c, out_c):\n",
    "        super().__init__()\n",
    "        self.conv1 = nn.Conv2d(in_c, out_c, kernel_size=3, padding=1)\n",
    "        self.conv2 = nn.Conv2d(out_c, out_c, kernel_size=3, padding=1)\n",
    "        self.relu = nn.ReLU()\n",
    "    \n",
    "    def forward(self, inputs):\n",
    "        x = self.conv1(inputs)\n",
    "        x = self.relu(x)\n",
    "        x = self.conv2(x)\n",
    "        x = self.relu(x)\n",
    "        return x\n",
    "    \n",
    "class encoder_block(nn.Module):\n",
    "    def __init__(self, in_c, out_c):\n",
    "        super().__init__()\n",
    "        self.conv = conv_block(in_c, out_c)\n",
    "        self.pool = nn.MaxPool2d((2, 2))\n",
    "\n",
    "    def forward(self, inputs):\n",
    "        x = self.conv(inputs)\n",
    "        p = self.pool(x)\n",
    "        return x, p\n",
    "    \n",
    "class decoder_block(nn.Module):\n",
    "    def __init__(self, in_c, out_c):\n",
    "        super().__init__()\n",
    "        self.up = nn.ConvTranspose2d(in_c, out_c, kernel_size=2, stride=2, padding=0)\n",
    "        self.conv = conv_block(out_c+out_c, out_c)\n",
    "    \n",
    "    def forward(self, inputs, skip):\n",
    "        x = self.up(inputs)\n",
    "        x = torch.cat([x, skip], axis=1)\n",
    "        x = self.conv(x)\n",
    "        return x\n",
    "    \n",
    "class ConvUNet(nn.Module):\n",
    "    \n",
    "    def __init__(self):\n",
    "        super().__init__()\n",
    "        #\"\"\" Encoder \"\"\"\n",
    "        self.e1 = encoder_block(1, 64).cuda()\n",
    "        self.e2 = encoder_block(64, 128).cuda()\n",
    "        self.e3 = encoder_block(128, 256).cuda()\n",
    "        self.e4 = encoder_block(256, 512).cuda()\n",
    "        #\"\"\" Bottleneck \"\"\"\n",
    "        self.b = conv_block(512, 1024).cuda()\n",
    "        #\"\"\" Decoder \"\"\"\n",
    "        self.d1 = decoder_block(1024, 512).cuda()\n",
    "        self.d2 = decoder_block(512, 256).cuda()\n",
    "        self.d3 = decoder_block(256, 128).cuda()\n",
    "        self.d4 = decoder_block(128, 64).cuda()\n",
    "        #\"\"\" Classifier \"\"\"\n",
    "        self.outputs = nn.Conv2d(64, 1, kernel_size=1, padding=0).cuda()\n",
    "    \n",
    "    def forward(self, inputs):\n",
    "        #\"\"\" Encoder \"\"\"\n",
    "        s1, p1 = self.e1(inputs)\n",
    "        s2, p2 = self.e2(p1)\n",
    "        s3, p3 = self.e3(p2)\n",
    "        s4, p4 = self.e4(p3)\n",
    "\n",
    "        #\"\"\" Bottleneck \"\"\"\n",
    "        b = self.b(p4)\n",
    "\n",
    "        #\"\"\" Decoder \"\"\"\n",
    "        d1 = self.d1(b, s4)\n",
    "        d2 = self.d2(d1, s3)\n",
    "        d3 = self.d3(d2, s2)\n",
    "        d4 = self.d4(d3, s1)\n",
    "\n",
    "        #\"\"\" Classifier \"\"\"\n",
    "        outputs = self.outputs(d4)\n",
    "        return outputs\n",
    "\n"
   ]
  },
  {
   "cell_type": "code",
   "execution_count": 4,
   "id": "51f2cc36",
   "metadata": {},
   "outputs": [],
   "source": [
    "#bestModel = torch.load(folder_name+\"bestModel.pth\")"
   ]
  },
  {
   "cell_type": "code",
   "execution_count": 5,
   "id": "11f2ac22",
   "metadata": {},
   "outputs": [],
   "source": [
    "#torch.save(bestModel.state_dict(), \"bestModelStateDict.pth\")"
   ]
  },
  {
   "cell_type": "code",
   "execution_count": 3,
   "id": "4800160b",
   "metadata": {},
   "outputs": [
    {
     "data": {
      "text/plain": [
       "<All keys matched successfully>"
      ]
     },
     "execution_count": 3,
     "metadata": {},
     "output_type": "execute_result"
    }
   ],
   "source": [
    "model = ConvUNet()\n",
    "model.load_state_dict(torch.load(\"bestModelStateDict.pth\"))"
   ]
  },
  {
   "cell_type": "code",
   "execution_count": null,
   "id": "d9ffaaab",
   "metadata": {},
   "outputs": [],
   "source": [
    "bestModel.eval()\n",
    "with torch.no_grad():\n",
    "    for j, data in enumerate(testloader):\n",
    "        # get the input\n",
    "        batch_input, batch_labels = data\n",
    "        \n",
    "        for i in range(len(batch_labels)):\n",
    "            \n",
    "            masked, labels = batch_input[i].unsqueeze(0), batch_labels[i].unsqueeze(0)\n",
    "\n",
    "            fig, (ax0, ax1, ax2) = plt.subplots(1, 3, figsize=(15,10))\n",
    "            \n",
    "            ax0.set_title('Masked')\n",
    "            ax0.imshow(((torch.squeeze(masked.detach())).numpy()),cmap='gray')\n",
    "\n",
    "            outputs = torch.squeeze(bestModel(masked.cuda())).detach().cpu()\n",
    "            outputs = (torch.sigmoid(outputs) > 0.5).float()\n",
    "            \n",
    "            ax1.set_title('Prediction')\n",
    "            ax1.imshow(outputs.numpy(),cmap='gray')\n",
    "            \n",
    "            ax2.set_title(\"Label\")\n",
    "            ax2.imshow(((torch.squeeze(labels.detach())).numpy()),cmap='gray')\n",
    "\n",
    "            ax0.axis('off')\n",
    "            ax1.axis('off')\n",
    "            ax2.axis('off')\n",
    "            plt.show()"
   ]
  },
  {
   "cell_type": "code",
   "execution_count": null,
   "id": "b9151fec",
   "metadata": {
    "scrolled": true
   },
   "outputs": [],
   "source": []
  },
  {
   "cell_type": "code",
   "execution_count": 15,
   "id": "dbf936b4",
   "metadata": {
    "scrolled": false
   },
   "outputs": [
    {
     "name": "stdout",
     "output_type": "stream",
     "text": [
      "amunt of crops: 32\n",
      "torch.Size([1, 4096, 4096])\n"
     ]
    },
    {
     "ename": "NameError",
     "evalue": "name 'bestModel' is not defined",
     "output_type": "error",
     "traceback": [
      "\u001b[0;31m---------------------------------------------------------------------------\u001b[0m",
      "\u001b[0;31mNameError\u001b[0m                                 Traceback (most recent call last)",
      "\u001b[0;32m/tmp/ipykernel_5633/370331214.py\u001b[0m in \u001b[0;36m<module>\u001b[0;34m\u001b[0m\n\u001b[1;32m     34\u001b[0m             \u001b[0moutput_list\u001b[0m \u001b[0;34m=\u001b[0m \u001b[0;34m[\u001b[0m\u001b[0;34m]\u001b[0m\u001b[0;34m\u001b[0m\u001b[0;34m\u001b[0m\u001b[0m\n\u001b[1;32m     35\u001b[0m             \u001b[0;32mfor\u001b[0m \u001b[0mimg\u001b[0m \u001b[0;32min\u001b[0m \u001b[0mcropped_image_list\u001b[0m\u001b[0;34m:\u001b[0m\u001b[0;34m\u001b[0m\u001b[0;34m\u001b[0m\u001b[0m\n\u001b[0;32m---> 36\u001b[0;31m                 \u001b[0moutputs\u001b[0m \u001b[0;34m=\u001b[0m \u001b[0mtorch\u001b[0m\u001b[0;34m.\u001b[0m\u001b[0msqueeze\u001b[0m\u001b[0;34m(\u001b[0m\u001b[0mbestModel\u001b[0m\u001b[0;34m(\u001b[0m\u001b[0mimg\u001b[0m\u001b[0;34m.\u001b[0m\u001b[0mcuda\u001b[0m\u001b[0;34m(\u001b[0m\u001b[0;34m)\u001b[0m\u001b[0;34m)\u001b[0m\u001b[0;34m)\u001b[0m\u001b[0;34m.\u001b[0m\u001b[0mdetach\u001b[0m\u001b[0;34m(\u001b[0m\u001b[0;34m)\u001b[0m\u001b[0;34m.\u001b[0m\u001b[0mcpu\u001b[0m\u001b[0;34m(\u001b[0m\u001b[0;34m)\u001b[0m\u001b[0;34m\u001b[0m\u001b[0;34m\u001b[0m\u001b[0m\n\u001b[0m\u001b[1;32m     37\u001b[0m \u001b[0;34m\u001b[0m\u001b[0m\n\u001b[1;32m     38\u001b[0m                 \u001b[0;31m#outputs = torch.sigmoid(outputs)\u001b[0m\u001b[0;34m\u001b[0m\u001b[0;34m\u001b[0m\u001b[0;34m\u001b[0m\u001b[0m\n",
      "\u001b[0;31mNameError\u001b[0m: name 'bestModel' is not defined"
     ]
    }
   ],
   "source": [
    "# Patches\n",
    "network_size = 128\n",
    "image_size = 4096\n",
    "amount_of_crops = image_size//network_size\n",
    "print(\"amunt of crops:\", amount_of_crops)\n",
    "\n",
    "\n",
    "predictions = []\n",
    "with torch.no_grad():\n",
    "    for j, data in enumerate(testloader):\n",
    "        # get the input\n",
    "        batch_input, batch_labels = data\n",
    "        \n",
    "        for i in range(len(batch_labels)):\n",
    "            masked, labels = batch_input[i], batch_labels[i]\n",
    "            #[1, 4096, 4096]\n",
    "            \n",
    "            print(masked.shape)\n",
    "            \n",
    "            cropped_image_list = []\n",
    "            for i in range(amount_of_crops):\n",
    "                x_start_index = network_size*i\n",
    "                x_end_index = network_size*(i+1)\n",
    "                \n",
    "                for j in range(amount_of_crops):\n",
    "                    # Generate slice indices\n",
    "                    y_start_index = network_size*j\n",
    "                    y_end_index = network_size*(j+1)\n",
    "                    \n",
    "                    # Apply slice mask and obtain the cropped image\n",
    "                    cropped_image = masked[0][x_start_index:x_end_index,y_start_index:y_end_index]\n",
    "                    cropped_image_list.append(cropped_image.unsqueeze(0).unsqueeze(0))\n",
    "            \n",
    "            output_list = []\n",
    "            for img in cropped_image_list:\n",
    "                outputs = torch.squeeze(bestModel(img.cuda())).detach().cpu()\n",
    "                \n",
    "                #outputs = torch.sigmoid(outputs)\n",
    "                outputs = (torch.sigmoid(outputs) >= 0.5).float()\n",
    "                output_list.append(outputs)\n",
    "            \n",
    "            row_images = []\n",
    "            for i in range(amount_of_crops):\n",
    "                # to obtain each row in an image\n",
    "                row_to_concat = output_list[(i)*amount_of_crops:(i+1)*amount_of_crops]\n",
    "                stacked_array = np.concatenate([arr for arr in row_to_concat], axis=1)\n",
    "                row_images.append(stacked_array)\n",
    "                \n",
    "            predicted_labels = np.concatenate([arr for arr in row_images], axis=0)\n",
    "            print(predicted_labels.shape)\n",
    "\n",
    "            fig, (ax0, ax1, ax2) = plt.subplots(1, 3, figsize=(15,10))\n",
    "\n",
    "            ax0.set_title('Masked')\n",
    "            ax0.imshow(masked[0].numpy(),cmap='gray')\n",
    "            \n",
    "            ax1.set_title('Label')\n",
    "            ax1.imshow(labels[0].numpy(),cmap='gray')\n",
    "\n",
    "            ax2.set_title('Prediction')\n",
    "            ax2.imshow(predicted_labels, cmap='gray')            \n",
    "\n",
    "            ax0.axis('off')\n",
    "            ax1.axis('off')\n",
    "            ax2.axis('off')\n",
    "            plt.show()"
   ]
  },
  {
   "cell_type": "code",
   "execution_count": null,
   "id": "5a6c05db",
   "metadata": {},
   "outputs": [],
   "source": []
  },
  {
   "cell_type": "code",
   "execution_count": null,
   "id": "e43a0929",
   "metadata": {},
   "outputs": [],
   "source": []
  }
 ],
 "metadata": {
  "kernelspec": {
   "display_name": "Python 3 (ipykernel)",
   "language": "python",
   "name": "python3"
  },
  "language_info": {
   "codemirror_mode": {
    "name": "ipython",
    "version": 3
   },
   "file_extension": ".py",
   "mimetype": "text/x-python",
   "name": "python",
   "nbconvert_exporter": "python",
   "pygments_lexer": "ipython3",
   "version": "3.8.16"
  }
 },
 "nbformat": 4,
 "nbformat_minor": 5
}
